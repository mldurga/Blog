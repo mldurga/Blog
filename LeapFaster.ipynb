{
  "nbformat": 4,
  "nbformat_minor": 0,
  "metadata": {
    "colab": {
      "provenance": [],
      "authorship_tag": "ABX9TyOkqeFLSC+may7gzkB0Hsbj",
      "include_colab_link": true
    },
    "kernelspec": {
      "name": "python3",
      "display_name": "Python 3"
    },
    "language_info": {
      "name": "python"
    }
  },
  "cells": [
    {
      "cell_type": "markdown",
      "metadata": {
        "id": "view-in-github",
        "colab_type": "text"
      },
      "source": [
        "<a href=\"https://colab.research.google.com/github/mldurga/Blog/blob/main/LeapFaster.ipynb\" target=\"_parent\"><img src=\"https://colab.research.google.com/assets/colab-badge.svg\" alt=\"Open In Colab\"/></a>"
      ]
    },
    {
      "cell_type": "markdown",
      "source": [
        "# Leap faster with ChatGPT\n",
        "- toc: true\n",
        "- branch: master\n",
        "- badges: true\n",
        "- comments: true\n",
        "- categories: [AGI]\n",
        "- image: https://user-images.githubusercontent.com/19243618/137338003-dfdbf632-4ea7-444b-af40-e68319d076d8.png\n",
        "- hide: false\n",
        "- search_exclude: true\n",
        "- metadata_key1: metadata_value1\n",
        "- metadata_key2: metadata_value2\n",
        "\n",
        "> ChatGPT - Personal AI assistant"
      ],
      "metadata": {
        "id": "3wYHOwacjbSa"
      }
    },
    {
      "cell_type": "markdown",
      "source": [
        "Its just 4 months old, entire internet is hijacked by the word GPT and all sorts of GPT tools are emerging and filling us with information overlaod. The ramifications on scociety is so huge and can effect the society from the roots. This advancement is unlike the other two major technical advancements electricity and internet. In the words of the foremost AI research scientist [\"Jeremy Howard\"](https://twitter.com/jeremyphoward) and the popular python library Django founder [\"Simon Wilson\"](https://twitter.com/simonw), will set the context of todays blog.\n",
        "\n",
        "<blockquote class=\"twitter-tweet\"><p lang=\"en\" dir=\"ltr\">I think Simon&#39;s advice is still the best approach for now, since I can&#39;t think of anything better.<br><br>But assuming this time is just like all the other times, might lead to hubris.</p>&mdash; Jeremy Howard (@jeremyphoward) <a href=\"https://twitter.com/jeremyphoward/status/1639899116150079488?ref_src=twsrc%5Etfw\">March 26, 2023</a></blockquote> <script async src=\"https://platform.twitter.com/widgets.js\" charset=\"utf-8\"></script>\n",
        "\n",
        "<blockquote class=\"twitter-tweet\"><p lang=\"en\" dir=\"ltr\">If you&#39;re just starting to learn software engineering right now but you&#39;re considering dropping it because you think the field might be made obsolete by AI, I have an alternative approach to suggest for you:<br><br>Start learning now, and use AI tools to learn FASTER</p>&mdash; Simon Willison (@simonw) <a href=\"https://twitter.com/simonw/status/1639691902357483520?ref_src=twsrc%5Etfw\">March 25, 2023</a></blockquote> <script async src=\"https://platform.twitter.com/widgets.js\" charset=\"utf-8\"></script>"
      ],
      "metadata": {
        "id": "yKXX7TLRlUFx"
      }
    },
    {
      "cell_type": "code",
      "source": [],
      "metadata": {
        "id": "YHiqQa7qJmmj"
      },
      "execution_count": null,
      "outputs": []
    }
  ]
}