{
 "cells": [
  {
   "cell_type": "raw",
   "metadata": {},
   "source": [
    "---\n",
    "title: \"Leap faster with ChatGPT\"\n",
    "toc: true\n",
    "branch: master\n",
    "badges: true\n",
    "comments: false\n",
    "categories: AGI\n",
    "date: '2023-04-08'\n",
    "image: https://user-images.githubusercontent.com/19243618/137338003-dfdbf632-4ea7-444b-af40-e68319d076d8.png\n",
    "hide: false\n",
    "search_exclude: true\n",
    "metadata_key1: metadata_value1\n",
    "metadata_key2: metadata_value2\n",
    "\n",
    "description: \"ChatGPT: Personal AI assistant\"\n",
    "---\n",
    "\n"
   ]
  },
  {
   "cell_type": "markdown",
   "metadata": {},
   "source": [
    "Its just 4 months old, entire internet is hijacked by the word GPT and all sorts of GPT tools are emerging and filling us with information overlaod. The ramifications on scociety is so huge and can effect the society from the roots. This advancement is unlike the other two major technical advancements like electricity and internet. The words of the foremost AI research scientist [\"Jeremy Howard\"](https://twitter.com/jeremyphoward) and the popular python library Django founder [\"Simon Wilson\"](https://twitter.com/simonw), will set the context of todays blog.\n",
    "\n",
    "<blockquote class=\"twitter-tweet\"><p lang=\"en\" dir=\"ltr\">I think Simon&#39;s advice is still the best approach for now, since I can&#39;t think of anything better.<br><br>But assuming this time is just like all the other times, might lead to hubris.</p>&mdash; Jeremy Howard (@jeremyphoward) <a href=\"https://twitter.com/jeremyphoward/status/1639899116150079488?ref_src=twsrc%5Etfw\">March 26, 2023</a></blockquote> <script async src=\"https://platform.twitter.com/widgets.js\" charset=\"utf-8\"></script>\n",
    "\n",
    "<blockquote class=\"twitter-tweet\"><p lang=\"en\" dir=\"ltr\">If you&#39;re just starting to learn software engineering right now but you&#39;re considering dropping it because you think the field might be made obsolete by AI, I have an alternative approach to suggest for you:<br><br>Start learning now, and use AI tools to learn FASTER</p>&mdash; Simon Willison (@simonw) <a href=\"https://twitter.com/simonw/status/1639691902357483520?ref_src=twsrc%5Etfw\">March 25, 2023</a></blockquote> <script async src=\"https://platform.twitter.com/widgets.js\" charset=\"utf-8\"></script>"
   ]
  },
  {
   "cell_type": "markdown",
   "metadata": {},
   "source": [
    "Times like this scares many people and generates questions like: will I be replaced with AI, will there be paycuts, will my job get obseleted etc. The rapid development of Large Language Models (LLM) by various reasearch labs definitely pushes one to validate themselves in the new found ecosystems. Quite contrary to the sentiment, it is actually prime time to catapult oneself to epitome of their careers with the new **Equalizer** in the market.\n"
   ]
  },
  {
   "cell_type": "markdown",
   "metadata": {},
   "source": [
    "chatGPT equalized the disadvantaged, beginners,  and amateures alike with senior most developers in organisations across the planet. Suddenly it has given a mentor, advisor, apprentice and intern for various people at their convenience at various levels depends on their level of expertise in their corresponding fields. The benefits you can leverage depends on the skilled prompt you can pose to Generative Pretraining Transformer (GPT) model. There are many GPT models in the market, chatGPT is humongous and powerful in the market."
   ]
  },
  {
   "cell_type": "markdown",
   "metadata": {},
   "source": [
    "I would encourage one to engage with GPT mdoels, whatever the way possible. It can be playing with chatGPT prompts at openAI [website](https://chat.openai.com/chat), installing various GPT extensions in [VScode](https://code-gpt-docs.vercel.app/), tinkering the opensource model cards in [huggingface](https://huggingface.co/models), or just browsing twitter over the developments of GPT models and leveraging them to our advantage. One would be surprised to realise the productivity gains, value additios that one can be profited with. Recently, I witnessed my friend develop a static website from scratch using chatGPT. Despite having no prior knowledge or experience in development, He was able to create website ready for hosting within an hour of interacting with this new technical marvel."
   ]
  },
  {
   "cell_type": "markdown",
   "metadata": {},
   "source": [
    "Twitter open-sourced their recommnedation algorithms few days back and it would be great to understand the internals of the code. Normally I have to depend on the google, stackoverflow and youtube to get to know about some geeky stuff. Now I simply copy the code and ask chatGPT to explain the code. The beauty of that can be seen in the following image.\n",
    "\n",
    "![image](gpt0.png)\n",
    "\n",
    "select the Explain the code and then you have chatGPT explaining all the code.\n",
    "\n",
    "![image](gpt1.png)\n",
    "\n",
    "\n",
    "Twitter open-sourced algorithm: [code snippet](https://github.com/twitter/the-algorithm/blob/main/src/python/twitter/deepbird/projects/timelines/scripts/models/earlybird/train.py)"
   ]
  },
  {
   "cell_type": "markdown",
   "metadata": {},
   "source": [
    "ChatGPT has reduced all the barriers between learner and learned. Its all about what do you want and how you prompt the engine to your advantage. Having said all of this, it must be taken with pinch of salt. LLMs (Large language models) are so sophisticated that even when they lies its not easy to find and they can configure a lie which looks more truer than truth. But it can be found out with little interest in the subject and inquisitiveness to know the truth. Effort and doubt are two must ingredients to learn with chatGPT with 10X speed."
   ]
  },
  {
   "cell_type": "code",
   "execution_count": null,
   "metadata": {},
   "outputs": [],
   "source": []
  }
 ],
 "metadata": {
  "kernelspec": {
   "display_name": "python3",
   "language": "python",
   "name": "python3"
  }
 },
 "nbformat": 4,
 "nbformat_minor": 1
}
